{
 "cells": [
  {
   "cell_type": "code",
   "execution_count": 1,
   "metadata": {},
   "outputs": [],
   "source": [
    "import json\r\n",
    "import pandas as pd\r\n",
    "import numpy as np\r\n",
    "\r\n",
    "import re\r\n",
    "\r\n",
    "from sqlalchemy import create_engine\r\n",
    "import psycopg2\r\n",
    "\r\n",
    "# from config import db_password\r\n",
    "\r\n",
    "import time\r\n",
    "\r\n",
    "from config import db_password\r\n",
    "\r\n",
    "# 1. Create a function that takes in three arguments;\r\n",
    "# Wikipedia data, Kaggle metadata, and MovieLens rating data (from Kaggle)\r\n",
    "\r\n",
    "def three_args_func():\r\n",
    "    # 2. Read in the kaggle metadata and MovieLens ratings CSV files as Pandas DataFrames.\r\n",
    "\r\n",
    "    kaggle_metadata = pd.read_csv(f'{Mod8MovieFiles}/movies_metadata.csv', low_memory=False)\r\n",
    "\r\n",
    "    ratings = pd.read_csv(f'{Mod8MovieFiles}/ratings.csv')    \r\n",
    "\r\n",
    "\r\n",
    "    # 3. Open the read the Wikipedia data JSON file.\r\n",
    "    f'{Mod8MovieFiles}wikipedia-movies.json'   \r\n",
    "\r\n",
    "    # 4. Read in the raw wiki movie data as a Pandas DataFrame.\r\n",
    "    with open(f'{Mod8MovieFiles}/wikipedia-movies.json', mode='r') as file:\r\n",
    "        wiki_movies_raw = json.load(file)\r\n",
    "        wiki_movies_df = pd.DataFrame(wiki_movies_raw)\r\n",
    "    # 5. Return the three DataFrames\r\n",
    "    return wiki_movies_df, kaggle_metadata, ratings\r\n",
    "\r\n",
    "# 6 Create the path to your file directory and variables for the three files. \r\n",
    "file_dir = \"C:\\Users\\benjh\\Documents\\Class\\Mod8MovieFiles\"\r\n",
    "# Wikipedia data\r\n",
    "wiki_file = f'{file_dir}/wikipedia.movies.json'\r\n",
    "# Kaggle metadata\r\n",
    "kaggle_file = f'{file_dir}/movies_metadata.csv'\r\n",
    "# MovieLens rating data.\r\n",
    "ratings_file = f'{file_dir}/ratings.csv'\r\n",
    "\r\n",
    "# 7. Set the three variables in Step 6 equal to the function created in Step 1.\r\n",
    "wiki_file, kaggle_file, ratings_file = three_args_func()"
   ]
  },
  {
   "cell_type": "code",
   "execution_count": 2,
   "metadata": {},
   "outputs": [],
   "source": [
    "# 8. Set the DataFrames from the return statement equal to the file names in Step 6. \n",
    "wiki_movies_df = wiki_file\n",
    "kaggle_metadata = kaggle_file\n",
    "ratings = ratings_file"
   ]
  },
  {
   "cell_type": "code",
   "execution_count": 3,
   "metadata": {},
   "outputs": [],
   "source": [
    "# 9. Check the wiki_movies_df DataFrame.\n",
    "wiki_movies_df.head()"
   ]
  },
  {
   "cell_type": "code",
   "execution_count": 4,
   "metadata": {},
   "outputs": [],
   "source": [
    "# 10. Check the kaggle_metadata DataFrame.\n",
    "kaggle_metadata.head()"
   ]
  },
  {
   "cell_type": "code",
   "execution_count": 5,
   "metadata": {},
   "outputs": [],
   "source": [
    "# 11. Check the ratings DataFrame.\n",
    "ratings.head()"
   ]
  },
  {
   "cell_type": "code",
   "execution_count": null,
   "metadata": {},
   "outputs": [],
   "source": []
  }
 ],
 "metadata": {
  "kernelspec": {
   "display_name": "Python 3.8.5 64-bit ('PythonData': conda)",
   "name": "pythondata"
  },
  "language_info": {
   "name": "python",
   "version": ""
  }
 },
 "nbformat": 4,
 "nbformat_minor": 2
}